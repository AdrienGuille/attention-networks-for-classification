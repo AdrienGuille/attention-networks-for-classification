{
 "cells": [
  {
   "cell_type": "code",
   "execution_count": 4,
   "metadata": {
    "collapsed": false
   },
   "outputs": [],
   "source": [
    "import numpy as np\n",
    "import pandas as pd\n",
    "import matplotlib.pyplot as plt\n",
    "%matplotlib inline\n",
    "\n",
    "from sklearn.cross_validation import train_test_split\n",
    "import model\n",
    "import torch\n",
    "import torch.nn as nn\n",
    "from torch.autograd import Variable\n",
    "import torch.nn.functional as F\n",
    "from model import AttentionSentRNN, AttentionWordRNN"
   ]
  },
  {
   "cell_type": "code",
   "execution_count": 5,
   "metadata": {
    "collapsed": true
   },
   "outputs": [],
   "source": [
    "word_attn = AttentionWordRNN(batch_size=64, num_tokens=81132, embed_size=300, \n",
    "                             word_gru_hidden=100, bidirectional= True)"
   ]
  },
  {
   "cell_type": "code",
   "execution_count": 6,
   "metadata": {
    "collapsed": true
   },
   "outputs": [],
   "source": [
    "sent_attn = AttentionSentRNN(batch_size=64, sent_gru_hidden=100, word_gru_hidden=100, \n",
    "                             n_classes=10, bidirectional= True)"
   ]
  },
  {
   "cell_type": "code",
   "execution_count": 7,
   "metadata": {
    "collapsed": false
   },
   "outputs": [],
   "source": [
    "learning_rate = 1e-3\n",
    "word_optmizer = torch.optim.Adam(word_attn.parameters(), lr=learning_rate)\n",
    "sent_optimizer = torch.optim.SGD(sent_attn.parameters(), lr=learning_rate)"
   ]
  },
  {
   "cell_type": "code",
   "execution_count": 8,
   "metadata": {
    "collapsed": true
   },
   "outputs": [],
   "source": [
    "def train_data(mini_batch, targets, word_attn_model, sent_attn_model, word_optimizer, sent_optimizer, criterion):\n",
    "    state_word = word_attn_model.init_hidden().cuda()\n",
    "    state_sent = sent_attn_model.init_hidden().cuda()\n",
    "#     print state_sent.size()\n",
    "    max_sents, batch_size, max_tokens = mini_batch.size()\n",
    "    word_optimizer.zero_grad()\n",
    "    sent_optimizer.zero_grad()\n",
    "    s = None\n",
    "    for i in xrange(max_sents):\n",
    "        _s, state_word = word_attn_model(mini_batch[i,:,:].transpose(0,1), state_word)\n",
    "        if(s is None):\n",
    "            s = _s\n",
    "        else:\n",
    "            s = torch.cat((s,_s),0)\n",
    "#     print s.size()\n",
    "            \n",
    "    y_pred, state_sent = sent_attn_model(s, state_sent)\n",
    "    loss = criterion(y_pred.cuda(), targets) \n",
    "    loss.backward()\n",
    "    \n",
    "    word_optimizer.step()\n",
    "    sent_optimizer.step()\n",
    "    \n",
    "    return loss.data[0]"
   ]
  },
  {
   "cell_type": "code",
   "execution_count": 9,
   "metadata": {
    "collapsed": true
   },
   "outputs": [],
   "source": [
    "criterion = nn.NLLLoss()"
   ]
  },
  {
   "cell_type": "code",
   "execution_count": 10,
   "metadata": {
    "collapsed": false
   },
   "outputs": [
    {
     "data": {
      "text/plain": [
       "AttentionSentRNN (\n",
       "  (sent_gru): GRU(200, 100, bidirectional=True)\n",
       "  (final_linear): Linear (200 -> 10)\n",
       "  (softmax_sent): Softmax ()\n",
       "  (final_softmax): Softmax ()\n",
       ")"
      ]
     },
     "execution_count": 10,
     "metadata": {},
     "output_type": "execute_result"
    }
   ],
   "source": [
    "word_attn.cuda()\n",
    "sent_attn.cuda()"
   ]
  },
  {
   "cell_type": "code",
   "execution_count": 11,
   "metadata": {
    "collapsed": true
   },
   "outputs": [],
   "source": [
    "d = pd.read_json('imdb_final.json')"
   ]
  },
  {
   "cell_type": "code",
   "execution_count": 12,
   "metadata": {
    "collapsed": true
   },
   "outputs": [],
   "source": [
    "d['rating'] = d['rating'] - 1"
   ]
  },
  {
   "cell_type": "code",
   "execution_count": 13,
   "metadata": {
    "collapsed": false
   },
   "outputs": [
    {
     "data": {
      "text/html": [
       "<div>\n",
       "<table border=\"1\" class=\"dataframe\">\n",
       "  <thead>\n",
       "    <tr style=\"text-align: right;\">\n",
       "      <th></th>\n",
       "      <th>cleaned_sent</th>\n",
       "      <th>rating</th>\n",
       "      <th>review</th>\n",
       "      <th>sentences</th>\n",
       "      <th>tokens</th>\n",
       "      <th>url</th>\n",
       "      <th>user</th>\n",
       "    </tr>\n",
       "  </thead>\n",
       "  <tbody>\n",
       "    <tr>\n",
       "      <th>0</th>\n",
       "      <td>[i excepted a lot from this movie , and it did...</td>\n",
       "      <td>9</td>\n",
       "      <td>i excepted a lot from this movie , and it did ...</td>\n",
       "      <td>[i excepted a lot from this movie , and it did...</td>\n",
       "      <td>[[18, 26739, 10, 166, 47, 19, 31, 6, 9, 15, 97...</td>\n",
       "      <td>\\tt0119485</td>\n",
       "      <td>ur2480402/</td>\n",
       "    </tr>\n",
       "    <tr>\n",
       "      <th>1</th>\n",
       "      <td>[this movie is not worth seeing . ,  has no me...</td>\n",
       "      <td>0</td>\n",
       "      <td>this movie is not worth seeing . &lt;sssss&gt; has n...</td>\n",
       "      <td>[this movie is not worth seeing . ,  has no me...</td>\n",
       "      <td>[[19, 31, 13, 37, 331, 343, 8], [3, 49, 94, 51...</td>\n",
       "      <td>\\tt0109836</td>\n",
       "      <td>ur2480402/</td>\n",
       "    </tr>\n",
       "    <tr>\n",
       "      <th>10</th>\n",
       "      <td>[this is a great movie ! ,  it is so funny . ,...</td>\n",
       "      <td>9</td>\n",
       "      <td>this is a great movie ! &lt;sssss&gt; it is so funny...</td>\n",
       "      <td>[this is a great movie ! ,  it is so funny . ,...</td>\n",
       "      <td>[[19, 13, 10, 88, 31, 77], [3, 15, 13, 53, 192...</td>\n",
       "      <td>\\tt0088011</td>\n",
       "      <td>ur2480402/</td>\n",
       "    </tr>\n",
       "    <tr>\n",
       "      <th>100</th>\n",
       "      <td>[there 's a kid in this film that concerns me ...</td>\n",
       "      <td>5</td>\n",
       "      <td>there 's a kid in this film that concerns me ....</td>\n",
       "      <td>[there 's a kid in this film that concerns me ...</td>\n",
       "      <td>[[52, 17, 10, 692, 14, 19, 24, 16, 3177, 106, ...</td>\n",
       "      <td>\\tt0762114</td>\n",
       "      <td>ur4751428/</td>\n",
       "    </tr>\n",
       "    <tr>\n",
       "      <th>1000</th>\n",
       "      <td>[john hall -lrb- david andrews -rrb- is a drif...</td>\n",
       "      <td>7</td>\n",
       "      <td>john hall -lrb- david andrews -rrb- is a drift...</td>\n",
       "      <td>[john hall -lrb- david andrews -rrb- is a drif...</td>\n",
       "      <td>[[221, 2210, 27, 460, 4447, 26, 13, 10, 9737, ...</td>\n",
       "      <td>\\tt0099697</td>\n",
       "      <td>ur5115203/</td>\n",
       "    </tr>\n",
       "  </tbody>\n",
       "</table>\n",
       "</div>"
      ],
      "text/plain": [
       "                                           cleaned_sent  rating  \\\n",
       "0     [i excepted a lot from this movie , and it did...       9   \n",
       "1     [this movie is not worth seeing . ,  has no me...       0   \n",
       "10    [this is a great movie ! ,  it is so funny . ,...       9   \n",
       "100   [there 's a kid in this film that concerns me ...       5   \n",
       "1000  [john hall -lrb- david andrews -rrb- is a drif...       7   \n",
       "\n",
       "                                                 review  \\\n",
       "0     i excepted a lot from this movie , and it did ...   \n",
       "1     this movie is not worth seeing . <sssss> has n...   \n",
       "10    this is a great movie ! <sssss> it is so funny...   \n",
       "100   there 's a kid in this film that concerns me ....   \n",
       "1000  john hall -lrb- david andrews -rrb- is a drift...   \n",
       "\n",
       "                                              sentences  \\\n",
       "0     [i excepted a lot from this movie , and it did...   \n",
       "1     [this movie is not worth seeing . ,  has no me...   \n",
       "10    [this is a great movie ! ,  it is so funny . ,...   \n",
       "100   [there 's a kid in this film that concerns me ...   \n",
       "1000  [john hall -lrb- david andrews -rrb- is a drif...   \n",
       "\n",
       "                                                 tokens         url  \\\n",
       "0     [[18, 26739, 10, 166, 47, 19, 31, 6, 9, 15, 97...  \\tt0119485   \n",
       "1     [[19, 31, 13, 37, 331, 343, 8], [3, 49, 94, 51...  \\tt0109836   \n",
       "10    [[19, 13, 10, 88, 31, 77], [3, 15, 13, 53, 192...  \\tt0088011   \n",
       "100   [[52, 17, 10, 692, 14, 19, 24, 16, 3177, 106, ...  \\tt0762114   \n",
       "1000  [[221, 2210, 27, 460, 4447, 26, 13, 10, 9737, ...  \\tt0099697   \n",
       "\n",
       "            user  \n",
       "0     ur2480402/  \n",
       "1     ur2480402/  \n",
       "10    ur2480402/  \n",
       "100   ur4751428/  \n",
       "1000  ur5115203/  "
      ]
     },
     "execution_count": 13,
     "metadata": {},
     "output_type": "execute_result"
    }
   ],
   "source": [
    "d.head()"
   ]
  },
  {
   "cell_type": "code",
   "execution_count": 14,
   "metadata": {
    "collapsed": true
   },
   "outputs": [],
   "source": [
    "train, test = train_test_split(d, test_size = 0.3, random_state= 42)"
   ]
  },
  {
   "cell_type": "code",
   "execution_count": 15,
   "metadata": {
    "collapsed": false
   },
   "outputs": [
    {
     "data": {
      "text/plain": [
       "(59443, 7)"
      ]
     },
     "execution_count": 15,
     "metadata": {},
     "output_type": "execute_result"
    }
   ],
   "source": [
    "train.shape"
   ]
  },
  {
   "cell_type": "code",
   "execution_count": 16,
   "metadata": {
    "collapsed": true
   },
   "outputs": [],
   "source": [
    "def gen_minibatch(df, mini_batch_size):\n",
    "    random_batch = np.random.randint(0,df.shape[0],mini_batch_size)\n",
    "    labels = df.rating.iloc[random_batch].values\n",
    "    tokens = df.tokens.iloc[random_batch].values\n",
    "    max_sent_len = int(np.mean([len(x) for x in tokens]))\n",
    "#     print max_sent_len\n",
    "    max_token_len = int(np.mean([len(val) for sublist in tokens for val in sublist]))\n",
    "#     print max_token_len\n",
    "    main_matrix = np.zeros((mini_batch_size, max_sent_len, max_token_len), dtype= np.int)\n",
    "    # must be a better way to do this\n",
    "    for i in xrange(main_matrix.shape[0]):\n",
    "        for j in xrange(main_matrix.shape[1]):\n",
    "            for k in xrange(main_matrix.shape[2]):\n",
    "                try:\n",
    "                    main_matrix[i,j,k] = tokens[i][j][k]\n",
    "                except IndexError:\n",
    "                    pass\n",
    "    return Variable(torch.from_numpy(main_matrix).transpose(0,1)), Variable(torch.from_numpy(labels), requires_grad= False)"
   ]
  },
  {
   "cell_type": "code",
   "execution_count": 20,
   "metadata": {
    "collapsed": false
   },
   "outputs": [
    {
     "name": "stdout",
     "output_type": "stream",
     "text": [
      "Loss after 28 minibatches is 2.220706\n",
      "Loss after 57 minibatches is 2.209517\n",
      "Loss after 86 minibatches is 2.198834\n",
      "Loss after 115 minibatches is 2.190967\n",
      "Loss after 144 minibatches is 2.180499\n",
      "Loss after 173 minibatches is 2.183299\n",
      "Loss after 202 minibatches is 2.169488\n",
      "Loss after 231 minibatches is 2.168219\n",
      "Loss after 260 minibatches is 2.163191\n",
      "Loss after 289 minibatches is 2.151832\n",
      "Loss after 318 minibatches is 2.154105\n",
      "Loss after 347 minibatches is 2.149820\n",
      "Loss after 376 minibatches is 2.141655\n",
      "Loss after 405 minibatches is 2.139233\n",
      "Loss after 434 minibatches is 2.125643\n",
      "Loss after 463 minibatches is 2.116236\n",
      "Loss after 492 minibatches is 2.133306\n",
      "Loss after 521 minibatches is 2.134418\n",
      "Loss after 550 minibatches is 2.109438\n",
      "Loss after 579 minibatches is 2.106538\n",
      "Loss after 608 minibatches is 2.106580\n",
      "Loss after 637 minibatches is 2.110248\n",
      "Loss after 666 minibatches is 2.105183\n",
      "Loss after 695 minibatches is 2.105548\n",
      "Loss after 724 minibatches is 2.097892\n",
      "Loss after 753 minibatches is 2.088647\n",
      "Loss after 782 minibatches is 2.077073\n",
      "Loss after 811 minibatches is 2.091128\n",
      "Loss after 840 minibatches is 2.084929\n",
      "Loss after 869 minibatches is 2.072666\n",
      "Loss after 898 minibatches is 2.069942\n",
      "Loss after 927 minibatches is 2.064523\n",
      "Loss after 956 minibatches is 2.068886\n",
      "Loss after 985 minibatches is 2.056601\n",
      "Loss after 1014 minibatches is 2.073460\n",
      "Loss after 1043 minibatches is 2.070910\n",
      "Loss after 1072 minibatches is 2.057214\n",
      "Loss after 1101 minibatches is 2.061107\n",
      "Loss after 1130 minibatches is 2.052294\n",
      "Loss after 1159 minibatches is 2.060348\n",
      "Loss after 1188 minibatches is 2.033847\n",
      "Loss after 1217 minibatches is 2.043722\n",
      "Loss after 1246 minibatches is 2.058261\n",
      "Loss after 1275 minibatches is 2.048774\n",
      "Loss after 1304 minibatches is 2.043372\n",
      "Loss after 1333 minibatches is 2.021818\n",
      "Loss after 1362 minibatches is 2.017796\n",
      "Loss after 1391 minibatches is 2.010653\n",
      "Loss after 1420 minibatches is 2.017891\n",
      "Loss after 1449 minibatches is 2.023164\n",
      "Loss after 1478 minibatches is 2.017048\n",
      "Loss after 1507 minibatches is 2.016613\n",
      "Loss after 1536 minibatches is 2.016609\n",
      "Loss after 1565 minibatches is 2.010636\n",
      "Loss after 1594 minibatches is 2.000050\n",
      "Loss after 1623 minibatches is 1.997950\n",
      "Loss after 1652 minibatches is 2.019401\n",
      "Loss after 1681 minibatches is 1.993331\n",
      "Loss after 1710 minibatches is 2.000736\n",
      "Loss after 1739 minibatches is 1.988990\n",
      "Loss after 1768 minibatches is 2.001698\n",
      "Loss after 1797 minibatches is 1.987037\n",
      "Loss after 1826 minibatches is 1.989961\n",
      "Loss after 1855 minibatches is 1.983190\n",
      "Loss after 1884 minibatches is 1.993029\n",
      "Loss after 1913 minibatches is 1.995903\n",
      "Loss after 1942 minibatches is 1.970061\n",
      "Loss after 1971 minibatches is 1.993051\n",
      "Loss after 2000 minibatches is 1.975668\n",
      "Loss after 2029 minibatches is 1.962462\n",
      "Loss after 2058 minibatches is 1.970758\n",
      "Loss after 2087 minibatches is 1.984289\n",
      "Loss after 2116 minibatches is 1.974606\n",
      "Loss after 2145 minibatches is 1.976665\n",
      "Loss after 2174 minibatches is 1.960578\n",
      "Loss after 2203 minibatches is 1.977700\n",
      "Loss after 2232 minibatches is 1.964125\n",
      "Loss after 2261 minibatches is 1.970307\n",
      "Loss after 2290 minibatches is 1.955197\n",
      "Loss after 2319 minibatches is 1.973520\n",
      "Loss after 2348 minibatches is 1.924851\n",
      "Loss after 2377 minibatches is 1.942473\n",
      "Loss after 2406 minibatches is 1.964975\n",
      "Loss after 2435 minibatches is 1.942249\n",
      "Loss after 2464 minibatches is 1.948674\n",
      "Loss after 2493 minibatches is 1.943894\n"
     ]
    }
   ],
   "source": [
    "loss_full = []\n",
    "loss_smooth = []\n",
    "counter = 0\n",
    "for i in xrange(2500):\n",
    "    tokens, labels = gen_minibatch(train, 64)\n",
    "    loss = train_data(tokens.cuda(), labels.cuda(), word_attn, sent_attn, word_optmizer, sent_optimizer, criterion)\n",
    "    loss_full.append(loss)\n",
    "    loss_smooth.append(loss)\n",
    "    counter += 1\n",
    "    if counter == 29:\n",
    "        print 'Loss after %d minibatches is %f' % (i, np.mean(loss_smooth))\n",
    "        loss_smooth = []\n",
    "        counter = 0"
   ]
  },
  {
   "cell_type": "code",
   "execution_count": 22,
   "metadata": {
    "collapsed": false
   },
   "outputs": [
    {
     "data": {
      "text/plain": [
       "<matplotlib.text.Text at 0x7f1727860a10>"
      ]
     },
     "execution_count": 22,
     "metadata": {},
     "output_type": "execute_result"
    },
    {
     "data": {
      "image/png": "[encoded data removed]",
      "text/plain": [
       "<matplotlib.figure.Figure at 0x7f172864fc50>"
      ]
     },
     "metadata": {},
     "output_type": "display_data"
    }
   ],
   "source": [
    "plt.plot(loss_full)\n",
    "plt.xlabel('Loss')\n",
    "plt.ylabel('Minibatch number')"
   ]
  }
 ],
 "metadata": {
  "anaconda-cloud": {},
  "kernelspec": {
   "display_name": "Python [conda env:py2]",
   "language": "python",
   "name": "conda-env-py2-py"
  },
  "language_info": {
   "codemirror_mode": {
    "name": "ipython",
    "version": 2
   },
   "file_extension": ".py",
   "mimetype": "text/x-python",
   "name": "python",
   "nbconvert_exporter": "python",
   "pygments_lexer": "ipython2",
   "version": "2.7.12"
  }
 },
 "nbformat": 4,
 "nbformat_minor": 1
}
